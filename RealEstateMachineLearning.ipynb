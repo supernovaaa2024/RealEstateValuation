{
 "cells": [
  {
   "cell_type": "code",
   "execution_count": 1,
   "id": "6640fdd1",
   "metadata": {},
   "outputs": [],
   "source": [
    "import matplotlib.pyplot as plt\n",
    "import numpy as np\n",
    "import seaborn as sns\n",
    "import pandas as pd\n",
    "\n",
    "from sklearn.model_selection import cross_validate, learning_curve, train_test_split\n",
    "from sklearn.linear_model import LinearRegression\n"
   ]
  },
  {
   "cell_type": "code",
   "execution_count": null,
   "id": "52ee9c74",
   "metadata": {},
   "outputs": [],
   "source": [
    "import pandas as pd\n",
    "from prophet import Prophet\n",
    "import matplotlib.pyplot as plt\n",
    "\n",
    "# 2. Load & prepare your time series (e.g. rental vacancy rate)\n",
    "df = pd.read_csv(\"Queens_Housing_2010_2023_Wide.csv\")\n",
    "df[\"Year\"] = pd.to_datetime(df[\"Year\"], format=\"%Y\")\n",
    "\n",
    "# Convert to Prophet’s expected columns: ds (date) & y (value)\n",
    "ts = (\n",
    "    df[[\"Year\", \"HOUSING OCCUPANCY - Rental vacancy rate\"]]\n",
    "      .rename(columns={\"Year\":\"ds\", \"HOUSING OCCUPANCY - Rental vacancy rate\":\"y\"})\n",
    ")\n",
    "\n",
    "# If the series is in “40.5%” format, strip % and convert to float\n",
    "if ts[\"y\"].dtype == object:\n",
    "    ts[\"y\"] = ts[\"y\"].str.rstrip(\"%\").astype(float) / 100\n",
    "\n",
    "# 3. Fit the model\n",
    "m = Prophet(yearly_seasonality=True, interval_width=0.95)\n",
    "m.fit(ts)\n",
    "\n",
    "# 4. Make a future dataframe (next 5 years)\n",
    "future = m.make_future_dataframe(periods=5, freq=\"Y\")\n",
    "\n",
    "# 5. Forecast\n",
    "forecast = m.predict(future)\n",
    "\n",
    "# 6. Plot\n",
    "fig = m.plot(forecast)\n",
    "plt.title(\"Prophet Forecast of Queens Rental Vacancy Rate\")\n",
    "plt.ylabel(\"Vacancy Rate\")\n",
    "plt.show()\n",
    "\n",
    "# 7. Inspect prediction intervals\n",
    "print(forecast[[\"ds\",\"yhat\",\"yhat_lower\",\"yhat_upper\"]].tail())\n"
   ]
  }
 ],
 "metadata": {
  "kernelspec": {
   "display_name": "MLDLNEW",
   "language": "python",
   "name": "python3"
  },
  "language_info": {
   "codemirror_mode": {
    "name": "ipython",
    "version": 3
   },
   "file_extension": ".py",
   "mimetype": "text/x-python",
   "name": "python",
   "nbconvert_exporter": "python",
   "pygments_lexer": "ipython3",
   "version": "3.10.15"
  }
 },
 "nbformat": 4,
 "nbformat_minor": 5
}
